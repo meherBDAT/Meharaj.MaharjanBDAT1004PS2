{
 "cells": [
  {
   "cell_type": "code",
   "execution_count": 3,
   "id": "d30d5188",
   "metadata": {},
   "outputs": [],
   "source": [
    "Question 1 Answer:\n",
    "\n",
    "The Value of a will be 6 at the end.\n",
    "\n",
    "At first the value of a is 0. But after execution of each b(). it calls the functions c(a) and adds the number to each time \n",
    "with the gloval variable 'a'.\n",
    "\n",
    "1) a = 0 + 2 = 2\n",
    "2) a = 2 + 2 = 4\n",
    "3) a = 4 + 2 = 6\n",
    "4) a = 6\n",
    "\n",
    "\n"
   ]
  },
  {
   "cell_type": "code",
   "execution_count": 8,
   "id": "60957e4f",
   "metadata": {},
   "outputs": [
    {
     "ename": "SyntaxError",
     "evalue": "invalid syntax (Temp/ipykernel_8500/2062747935.py, line 4)",
     "output_type": "error",
     "traceback": [
      "\u001b[1;36m  File \u001b[1;32m\"C:\\Users\\MEHER\\AppData\\Local\\Temp/ipykernel_8500/2062747935.py\"\u001b[1;36m, line \u001b[1;32m4\u001b[0m\n\u001b[1;33m    Traceback (most recent call last):\u001b[0m\n\u001b[1;37m                    ^\u001b[0m\n\u001b[1;31mSyntaxError\u001b[0m\u001b[1;31m:\u001b[0m invalid syntax\n"
     ]
    }
   ],
   "source": [
    ">>> fileLength('midterm.py')\n",
    "284\n",
    ">>> fileLength('idterm.py')\n",
    "Traceback (most recent call last):\n",
    "File \"<pyshell#34>\", line 1, in <module>\n",
    " fileLength('idterm.py')\n",
    "File \"/Users/me/midterm.py\", line 3, in fileLength\n",
    " infile = open(filename)\n",
    "FileNotFoundError: [Errno 2] No such file or directory:\n",
    "'idterm.py'\n"
   ]
  },
  {
   "cell_type": "code",
   "execution_count": 12,
   "id": "7ff7d48b",
   "metadata": {},
   "outputs": [
    {
     "name": "stdout",
     "output_type": "stream",
     "text": [
      "I am a Kangaroo located at coordinates (0,0)\n",
      "['doll', 'firetruck', 'kitten']\n",
      "I am a Kangaroo located at coordinates (3,0)\n"
     ]
    }
   ],
   "source": [
    "# Question 3 answer\n",
    "\n",
    "class Marsupial:\n",
    "    def __init__(self):\n",
    "        self.pouch=[]\n",
    "\n",
    "    def put_in_pouch(self, item):\n",
    "        self.pouch.append(item)\n",
    "        \n",
    "    def pouch_contents(self):\n",
    "        return self.pouch\n",
    "\n",
    "class Kangaroo(Marsupial):\n",
    "\n",
    "    def __init__(self, x,y):\n",
    "        Marsupial.__init__(self)\n",
    "        self.x=x\n",
    "        self.y=y  \n",
    "\n",
    "    def jump(self, dx, dy):\n",
    "        self.x+=dx\n",
    "        self.x+=dy\n",
    "\n",
    "    def __str__(self):\n",
    "        return \"I am a Kangaroo located at coordinates (\"+ str(self.x)+\",\"+ str(self.y)+\")\"\n",
    "\n",
    "    \n",
    "\n",
    "k = Kangaroo(0,0)\n",
    "print(k)\n",
    "\n",
    "k.put_in_pouch('doll')\n",
    "k.put_in_pouch('firetruck')\n",
    "k.put_in_pouch('kitten')\n",
    "print(k.pouch_contents())\n",
    "\n",
    "k.jump(1,0)\n",
    "k.jump(1,0)\n",
    "k.jump(1,0)\n",
    "print(k)"
   ]
  },
  {
   "cell_type": "code",
   "execution_count": 19,
   "id": "a7e581a6",
   "metadata": {},
   "outputs": [
    {
     "name": "stdout",
     "output_type": "stream",
     "text": [
      "1\n",
      "10\n",
      "5.0\n",
      "16.0\n",
      "8.0\n",
      "4.0\n",
      "2.0\n",
      "1.0\n"
     ]
    }
   ],
   "source": [
    "#Question 4 answer\n",
    "x=0\n",
    "def collatz(x):\n",
    "    if x == 1:\n",
    "        print(x)\n",
    "    elif x % 2 == 0:\n",
    "        print(x)\n",
    "        x = x/2\n",
    "        collatz(x)\n",
    "    else:\n",
    "        print(x)\n",
    "        x = 3*x + 1\n",
    "        collatz(x)\n",
    "collatz(1)\n",
    "collatz(10)"
   ]
  },
  {
   "cell_type": "code",
   "execution_count": 21,
   "id": "cfe84cc6",
   "metadata": {},
   "outputs": [
    {
     "name": "stdout",
     "output_type": "stream",
     "text": [
      "0\n",
      "1\n",
      "11\n",
      "1001\n"
     ]
    }
   ],
   "source": [
    "# Question 5 answer\n",
    "def binary(x):\n",
    "    if x == 0:\n",
    "        return '0'\n",
    "    else:\n",
    "        binaryOutput = ''\n",
    "        while x > 0:\n",
    "            binaryOutput = str((x % 2)) + binaryOutput\n",
    "            x //= 2\n",
    "        return binaryOutput\n",
    "\n",
    "print(binary(0))\n",
    "print(binary(1))\n",
    "print(binary(3))\n",
    "print(binary(9))"
   ]
  },
  {
   "cell_type": "code",
   "execution_count": null,
   "id": "f6851347",
   "metadata": {},
   "outputs": [],
   "source": [
    "# Question 6 answer\n",
    "class HeadingParser(HTMLParser):\n",
    "    headers = ['h1', 'h2', 'h3', 'h4', 'h5', 'h6']\n",
    "    \n",
    "    def handle_starttag(self, tag, attrs):\n",
    "        if tag in self.headers:\n",
    "            print(tag)\n",
    "\n",
    "    def handle_endtag(self, tag):\n",
    "        if tag in self.headers:\n",
    "            print(tag)\n",
    "\n",
    "    def handle_data(self, data):\n",
    "        print(data)\n",
    "\n",
    "# TEST HERE\n",
    "parser = HeadingParser()\n",
    "infile = open('w3c.html')\n",
    "content = infile.read()\n",
    "infile.close()\n",
    "hp = HeadingParser()\n",
    "hp.feed(content)"
   ]
  }
 ],
 "metadata": {
  "kernelspec": {
   "display_name": "Python 3 (ipykernel)",
   "language": "python",
   "name": "python3"
  },
  "language_info": {
   "codemirror_mode": {
    "name": "ipython",
    "version": 3
   },
   "file_extension": ".py",
   "mimetype": "text/x-python",
   "name": "python",
   "nbconvert_exporter": "python",
   "pygments_lexer": "ipython3",
   "version": "3.9.7"
  }
 },
 "nbformat": 4,
 "nbformat_minor": 5
}
